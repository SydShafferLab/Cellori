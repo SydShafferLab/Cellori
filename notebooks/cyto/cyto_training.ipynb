{
 "cells": [
  {
   "cell_type": "code",
   "execution_count": null,
   "id": "6f12dded",
   "metadata": {
    "pycharm": {
     "name": "#%%\n"
    }
   },
   "outputs": [],
   "source": [
    "# Import necessary packages\n",
    "import os\n",
    "os.environ['XLA_FLAGS'] = '--xla_gpu_deterministic_ops'\n",
    "os.environ['TF_CUDNN_DETERMINISTIC'] = '1'\n",
    "\n",
    "import json\n",
    "\n",
    "from flax import serialization\n",
    "from jax import random\n",
    "\n",
    "from cellori.applications.cyto import data\n",
    "from cellori.applications.cyto import training"
   ]
  },
  {
   "cell_type": "code",
   "execution_count": null,
   "id": "6490e9a2",
   "metadata": {
    "pycharm": {
     "name": "#%%\n"
    }
   },
   "outputs": [],
   "source": [
    "# Load training and testing datasets\n",
    "train_ds = data.load_dataset('train')\n",
    "test_ds = data.load_dataset('test')"
   ]
  },
  {
   "cell_type": "code",
   "execution_count": null,
   "id": "5ffae7aa",
   "metadata": {
    "pycharm": {
     "name": "#%%\n"
    }
   },
   "outputs": [],
   "source": [
    "# Create train state and metrics log\n",
    "rng = random.PRNGKey(0)\n",
    "state = training.create_train_state(rng, 0.0005)\n",
    "metrics_log = []"
   ]
  },
  {
   "cell_type": "code",
   "execution_count": null,
   "id": "0eb3b885",
   "metadata": {
    "pycharm": {
     "name": "#%%\n"
    }
   },
   "outputs": [],
   "source": [
    "# Load in previous train state and metrics log\n",
    "with open('cellori_state', 'rb') as f_state:\n",
    "    bytes_output = f_state.read()\n",
    "    state = serialization.from_bytes(state, bytes_output)\n",
    "with open('cellori_metrics_log', 'r') as f_log:\n",
    "    metrics_log = json.load(f_log)"
   ]
  },
  {
   "cell_type": "code",
   "execution_count": null,
   "id": "28b05eea",
   "metadata": {
    "pycharm": {
     "name": "#%%\n"
    }
   },
   "outputs": [],
   "source": [
    "# Define training parameters\n",
    "num_epochs = 100\n",
    "batch_size = 8"
   ]
  },
  {
   "cell_type": "code",
   "execution_count": null,
   "id": "8fcc192f",
   "metadata": {
    "pycharm": {
     "name": "#%%\n"
    }
   },
   "outputs": [],
   "source": [
    "# Training loop\n",
    "for epoch in range(len(metrics_log) + 1, len(metrics_log) + num_epochs + 1):\n",
    "\n",
    "    # Run an optimization step over a training batch\n",
    "    state, metrics = training.train_epoch(state, train_ds, test_ds, batch_size, epoch)\n",
    "    metrics_log.append(metrics)\n",
    "\n",
    "    if epoch % 10 == 0:\n",
    "        print('Saving checkpoint...')\n",
    "        bytes_output = serialization.to_bytes(state)\n",
    "        with open('cellori_state', 'wb') as f_state:\n",
    "            f_state.write(bytes_output)\n",
    "        with open('cellori_metrics_log', 'w') as f_log:\n",
    "            json.dump(metrics_log, f_log, indent=4)\n",
    "        print('Saved checkpoint!')"
   ]
  },
  {
   "cell_type": "code",
   "execution_count": null,
   "id": "7a713890",
   "metadata": {
    "pycharm": {
     "name": "#%%\n"
    }
   },
   "outputs": [],
   "source": [
    "# Save model\n",
    "variables = {'params': state.params, 'batch_stats': state.batch_stats}\n",
    "bytes_output = serialization.to_bytes(variables)\n",
    "\n",
    "with open('cellori_model', 'wb') as f_model:\n",
    "    f_model.write(bytes_output)"
   ]
  }
 ],
 "metadata": {
  "kernelspec": {
   "display_name": "Python 3 (ipykernel)",
   "language": "python",
   "name": "python3"
  },
  "language_info": {
   "codemirror_mode": {
    "name": "ipython",
    "version": 3
   },
   "file_extension": ".py",
   "mimetype": "text/x-python",
   "name": "python",
   "nbconvert_exporter": "python",
   "pygments_lexer": "ipython3",
   "version": "3.10.2"
  }
 },
 "nbformat": 4,
 "nbformat_minor": 5
}