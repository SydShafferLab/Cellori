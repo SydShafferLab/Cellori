{
 "cells": [
  {
   "cell_type": "code",
   "execution_count": null,
   "id": "5fa68bdf",
   "metadata": {},
   "outputs": [],
   "source": [
    "# Import necessary packages\n",
    "import numpy as np\n",
    "import matplotlib.pyplot as plt\n",
    "\n",
    "from flax.training import checkpoints\n",
    "from jax import jit, random\n",
    "from skimage import segmentation\n",
    "\n",
    "from cellori.applications.cyto import data\n",
    "from cellori.applications.cyto.model import CelloriCytoModel\n",
    "from cellori.utils import masks, metrics\n",
    "from cellpose.models import Cellpose"
   ]
  },
  {
   "cell_type": "code",
   "execution_count": null,
   "id": "7aae3448",
   "metadata": {},
   "outputs": [],
   "source": [
    "# Create models\n",
    "cellori_model = CelloriCytoModel()\n",
    "cellpose_model = Cellpose()\n",
    "\n",
    "# Load Cellori parameters\n",
    "variables = checkpoints.restore_checkpoint('cellori_model', None)"
   ]
  },
  {
   "cell_type": "code",
   "execution_count": null,
   "id": "4265bb6f",
   "metadata": {},
   "outputs": [],
   "source": [
    "# Load test dataset\n",
    "test_ds = data.load_dataset('test', use_gpu=True)\n",
    "\n",
    "# Transform test dataset\n",
    "rng = random.PRNGKey(42)\n",
    "transformed_test_ds = data.transform_dataset(test_ds, rng)"
   ]
  },
  {
   "cell_type": "code",
   "execution_count": null,
   "id": "38a4100e",
   "metadata": {},
   "outputs": [],
   "source": [
    "# Create list for masks\n",
    "cellori_masks = []\n",
    "cellpose_masks = []\n",
    "\n",
    "# Run models\n",
    "for image in transformed_test_ds['image']:\n",
    "    grads, semantic = jit(cellori_model.apply, static_argnums=2)(variables, image[None, :, :, :2], False)\n",
    "    grads = np.array(np.moveaxis(grads[0], -1, 0))\n",
    "    cellori_masks.append(masks.compute_masks_dynamics(grads, np.array(semantic[0,:,:,0]))[0])\n",
    "    cellpose_masks.append(cellpose_model.eval(image, channels=[2, 1]))"
   ]
  },
  {
   "cell_type": "code",
   "execution_count": null,
   "id": "907ff4ab",
   "metadata": {},
   "outputs": [],
   "source": [
    "# Generate AP curve\n",
    "thresholds = np.linspace(0, 1, 101)\n",
    "cellori_mean_aps = []\n",
    "cellpose_mean_aps = []\n",
    "\n",
    "for threshold in thresholds:\n",
    "    cellori_aps = []\n",
    "    cellpose_aps = []\n",
    "    for cellori_mask, cellpose_mask, true_mask in zip(cellori_masks, cellpose_masks, transformed_test_ds['mask']):\n",
    "        true_mask_cleared = segmentation.clear_border(true_mask[:, :, 0].astype(int))\n",
    "        cellori_mask_cleared = segmentation.clear_border(cellori_mask)\n",
    "        cellpose_mask_cleared = segmentation.clear_border(cellpose_mask[0])\n",
    "        cellori_aps.append(metrics.MaskMetrics(true_mask_cleared, cellori_mask_cleared).calculate('AP', 'f1', threshold))\n",
    "        cellpose_aps.append(metrics.MaskMetrics(true_mask_cleared, cellpose_mask_cleared).calculate('AP', 'f1', threshold))\n",
    "    cellori_aps = np.array(cellori_aps)[~np.isnan(cellori_aps)]\n",
    "    cellpose_aps = np.array(cellpose_aps)[~np.isnan(cellpose_aps)]\n",
    "    cellori_mean_aps.append(np.mean(cellori_aps))\n",
    "    cellpose_mean_aps.append(np.mean(cellpose_aps))"
   ]
  },
  {
   "cell_type": "code",
   "execution_count": null,
   "id": "72373d7b",
   "metadata": {},
   "outputs": [],
   "source": [
    "# Plot AP curve\n",
    "fig, ax = plt.subplots(dpi=300)\n",
    "ax.plot(thresholds, cellori_mean_aps, label='Cellori')\n",
    "ax.plot(thresholds, cellpose_mean_aps, label='Cellpose')\n",
    "ax.set_title('Model Benchmarking')\n",
    "ax.set_xlabel('IoU Threshold')\n",
    "ax.set_ylabel('Average Precision')\n",
    "ax.legend()"
   ]
  }
 ],
 "metadata": {
  "kernelspec": {
   "display_name": "Python 3 (ipykernel)",
   "language": "python",
   "name": "python3"
  },
  "language_info": {
   "codemirror_mode": {
    "name": "ipython",
    "version": 3
   },
   "file_extension": ".py",
   "mimetype": "text/x-python",
   "name": "python",
   "nbconvert_exporter": "python",
   "pygments_lexer": "ipython3",
   "version": "3.10.2"
  }
 },
 "nbformat": 4,
 "nbformat_minor": 5
}